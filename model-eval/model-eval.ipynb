{
 "cells": [
  {
   "cell_type": "code",
   "execution_count": 1,
   "metadata": {},
   "outputs": [
    {
     "data": {
      "text/plain": [
       "'2.18.0'"
      ]
     },
     "execution_count": 1,
     "metadata": {},
     "output_type": "execute_result"
    }
   ],
   "source": [
    "\n",
    "import tensorflow as tf\n",
    "import numpy as np\n",
    "import matplotlib.pyplot as plt\n",
    "import os, json\n",
    "from tensorflow.keras.models import load_model\n",
    "from tensorflow.keras.preprocessing.text import Tokenizer\n",
    "from tensorflow.keras.preprocessing.sequence import pad_sequences\n",
    "from tensorflow.keras.preprocessing.text import tokenizer_from_json\n",
    "from sklearn.metrics import accuracy_score, classification_report\n",
    "tf.__version__"
   ]
  },
  {
   "cell_type": "code",
   "execution_count": null,
   "metadata": {},
   "outputs": [],
   "source": []
  },
  {
   "cell_type": "code",
   "execution_count": 2,
   "metadata": {},
   "outputs": [
    {
     "name": "stdout",
     "output_type": "stream",
     "text": [
      "Num GPUs Available:  0\n"
     ]
    }
   ],
   "source": [
    "print(\"Num GPUs Available: \", len(tf.config.list_physical_devices('GPU')))"
   ]
  },
  {
   "cell_type": "code",
   "execution_count": 4,
   "metadata": {},
   "outputs": [
    {
     "data": {
      "text/html": [
       "<div>\n",
       "<style scoped>\n",
       "    .dataframe tbody tr th:only-of-type {\n",
       "        vertical-align: middle;\n",
       "    }\n",
       "\n",
       "    .dataframe tbody tr th {\n",
       "        vertical-align: top;\n",
       "    }\n",
       "\n",
       "    .dataframe thead th {\n",
       "        text-align: right;\n",
       "    }\n",
       "</style>\n",
       "<table border=\"1\" class=\"dataframe\">\n",
       "  <thead>\n",
       "    <tr style=\"text-align: right;\">\n",
       "      <th></th>\n",
       "      <th>Email Text</th>\n",
       "      <th>Email Type</th>\n",
       "    </tr>\n",
       "  </thead>\n",
       "  <tbody>\n",
       "    <tr>\n",
       "      <th>0</th>\n",
       "      <td>Dear Jordan, your subscription has been succes...</td>\n",
       "      <td>Safe Email</td>\n",
       "    </tr>\n",
       "    <tr>\n",
       "      <th>1</th>\n",
       "      <td>Dear Casey, thank you for your purchase. Your ...</td>\n",
       "      <td>Safe Email</td>\n",
       "    </tr>\n",
       "    <tr>\n",
       "      <th>2</th>\n",
       "      <td>Congratulations! You've won a $3000 gift card....</td>\n",
       "      <td>Phishing Email</td>\n",
       "    </tr>\n",
       "    <tr>\n",
       "      <th>3</th>\n",
       "      <td>You have a new secure message from your bank. ...</td>\n",
       "      <td>Phishing Email</td>\n",
       "    </tr>\n",
       "    <tr>\n",
       "      <th>4</th>\n",
       "      <td>Your package delivery is pending. Please provi...</td>\n",
       "      <td>Phishing Email</td>\n",
       "    </tr>\n",
       "  </tbody>\n",
       "</table>\n",
       "</div>"
      ],
      "text/plain": [
       "                                          Email Text      Email Type\n",
       "0  Dear Jordan, your subscription has been succes...      Safe Email\n",
       "1  Dear Casey, thank you for your purchase. Your ...      Safe Email\n",
       "2  Congratulations! You've won a $3000 gift card....  Phishing Email\n",
       "3  You have a new secure message from your bank. ...  Phishing Email\n",
       "4  Your package delivery is pending. Please provi...  Phishing Email"
      ]
     },
     "execution_count": 4,
     "metadata": {},
     "output_type": "execute_result"
    }
   ],
   "source": [
    "import pandas as pd\n",
    "file_path = 'Phishing_validation_emails.csv'  # Change this if it's a CSV file path\n",
    "csv_data = pd.read_csv(file_path)\n",
    "csv_data.head()"
   ]
  },
  {
   "cell_type": "code",
   "execution_count": 5,
   "metadata": {},
   "outputs": [
    {
     "data": {
      "text/html": [
       "<div>\n",
       "<style scoped>\n",
       "    .dataframe tbody tr th:only-of-type {\n",
       "        vertical-align: middle;\n",
       "    }\n",
       "\n",
       "    .dataframe tbody tr th {\n",
       "        vertical-align: top;\n",
       "    }\n",
       "\n",
       "    .dataframe thead th {\n",
       "        text-align: right;\n",
       "    }\n",
       "</style>\n",
       "<table border=\"1\" class=\"dataframe\">\n",
       "  <thead>\n",
       "    <tr style=\"text-align: right;\">\n",
       "      <th></th>\n",
       "      <th>Email Text</th>\n",
       "      <th>Email Type</th>\n",
       "    </tr>\n",
       "  </thead>\n",
       "  <tbody>\n",
       "    <tr>\n",
       "      <th>0</th>\n",
       "      <td>Dear Jordan, your subscription has been succes...</td>\n",
       "      <td>Safe Email</td>\n",
       "    </tr>\n",
       "    <tr>\n",
       "      <th>1</th>\n",
       "      <td>Dear Casey, thank you for your purchase. Your ...</td>\n",
       "      <td>Safe Email</td>\n",
       "    </tr>\n",
       "    <tr>\n",
       "      <th>2</th>\n",
       "      <td>Congratulations! You've won a $3000 gift card....</td>\n",
       "      <td>Phishing Email</td>\n",
       "    </tr>\n",
       "    <tr>\n",
       "      <th>3</th>\n",
       "      <td>You have a new secure message from your bank. ...</td>\n",
       "      <td>Phishing Email</td>\n",
       "    </tr>\n",
       "    <tr>\n",
       "      <th>4</th>\n",
       "      <td>Your package delivery is pending. Please provi...</td>\n",
       "      <td>Phishing Email</td>\n",
       "    </tr>\n",
       "  </tbody>\n",
       "</table>\n",
       "</div>"
      ],
      "text/plain": [
       "                                          Email Text      Email Type\n",
       "0  Dear Jordan, your subscription has been succes...      Safe Email\n",
       "1  Dear Casey, thank you for your purchase. Your ...      Safe Email\n",
       "2  Congratulations! You've won a $3000 gift card....  Phishing Email\n",
       "3  You have a new secure message from your bank. ...  Phishing Email\n",
       "4  Your package delivery is pending. Please provi...  Phishing Email"
      ]
     },
     "execution_count": 5,
     "metadata": {},
     "output_type": "execute_result"
    }
   ],
   "source": [
    "csv_data.head()"
   ]
  },
  {
   "cell_type": "code",
   "execution_count": 7,
   "metadata": {},
   "outputs": [],
   "source": [
    "messages = csv_data['Email Text']\n",
    "true_labels = csv_data['Email Type']"
   ]
  },
  {
   "cell_type": "code",
   "execution_count": 8,
   "metadata": {},
   "outputs": [
    {
     "name": "stderr",
     "output_type": "stream",
     "text": [
      "WARNING:absl:Compiled the loaded model, but the compiled metrics have yet to be built. `model.compile_metrics` will be empty until you train or evaluate the model.\n"
     ]
    }
   ],
   "source": [
    "model_path = 'model_files/lstm_model.h5'\n",
    "tokenizer_dir = 'model_files/tokenizer.json'\n",
    "# print(model_path)\n",
    "loaded_model = load_model(model_path)\n",
    "\n",
    "tokenizer = Tokenizer(num_words=100)\n",
    "\n",
    "with open(tokenizer_dir, 'r') as json_file:\n",
    "    tokenizer_json = json.load(json_file)\n",
    "\n",
    "tokenizer = tokenizer_from_json(tokenizer_json)"
   ]
  },
  {
   "cell_type": "code",
   "execution_count": 9,
   "metadata": {},
   "outputs": [],
   "source": [
    "def preprocessing(Email_content):\n",
    "    test_sequences = tokenizer.texts_to_sequences([Email_content])\n",
    "    a=pad_sequences(test_sequences,padding='post',maxlen=100)\n",
    "    return a"
   ]
  },
  {
   "cell_type": "code",
   "execution_count": 10,
   "metadata": {},
   "outputs": [],
   "source": [
    "mail_content = '''\n",
    "From fork-admin@xent.com Mon Aug 26 22:28:34 2002 Return-Path: <fork-admin@xent.com> Delivered-To: yyyy@localhost.netnoteinc.com Received: from localhost (localhost [127.0.0.1]) by phobos.labs.netnoteinc.com (Postfix) with ESMTP id DEFB243F99 for <jm@localhost>; Mon, 26 Aug 2002 17:28:33 -0400 (EDT) Received: from phobos [127.0.0.1] by localhost with IMAP (fetchmail-5.9.0) for jm@localhost (single-drop); Mon, 26 Aug 2002 22:28:33 +0100 (IST) Received: from xent.com ([64.161.22.236]) by dogma.slashnull.org (8.11.6/8.11.6) with ESMTP id g7QLMwZ10120 for <jm@jmason.org>; Mon, 26 Aug 2002 22:22:58 +0100 Received: from lair.xent.com (localhost [127.0.0.1]) by xent.com (Postfix) with ESMTP id 878672941DE; Mon, 26 Aug 2002 13:39:22 -0700 (PDT) Delivered-To: fork@spamassassin.taint.org Received: from mta6.snfc21.pbi.net (mta6.snfc21.pbi.net [206.13.28.240]) by xent.com (Postfix) with ESMTP id A9E7F2940F8 for <fork@xent.com>; Sat, 24 Aug 2002 08:02:21 -0700 (PDT) Received: from endeavors.com ([66.126.120.171]) by mta6.snfc21.pbi.net (iPlanet Messaging Server 5.1 (built May 7 2001)) with ESMTP id <0H1C007C2SIRJB@mta6.snfc21.pbi.net> for fork@xent.com; Sat, 24 Aug 2002 08:04:11 -0700 (PDT) From: Gregory Alan Bolcer <gbolcer@endeavors.com> Subject: Re: Entrepreneurs To: fork@spamassassin.taint.org Message-Id: <3D67A063.7080502@endeavors.com> Organization: Endeavors Technology, Inc. MIME-Version: 1.0 Content-Type: text/plain; format=flowed; charset=us-ascii Content-Transfer-Encoding: 7bit X-Accept-Language: en-us User-Agent: Mozilla/5.0 (Windows; U; Windows NT 5.1; en-US; rv:0.9.4.1) Gecko/20020508 Netscape6/6.2.3 References: <DD4216FF-B66F-11D6-837F-003065F93D3A@topsail.org> Sender: fork-admin@xent.com Errors-To: fork-admin@xent.com X-Beenthere: fork@spamassassin.taint.org X-Mailman-Version: 2.0.11 Precedence: bulk List-Help: <mailto:fork-request@xent.com?subject=help> List-Post: <mailto:fork@spamassassin.taint.org> List-Subscribe: <http://xent.com/mailman/listinfo/fork>, <mailto:fork-request@xent.com?subject=subscribe> List-Id: Friends of Rohit Khare <fork.xent.com> List-Unsubscribe: <http://xent.com/mailman/listinfo/fork>, <mailto:fork-request@xent.com?subject=unsubscribe> List-Archive: <http://xent.com/pipermail/fork/> Date: Sat, 24 Aug 2002 08:04:03 -0700 There's been well documented articles, studies of the French tax laws, corporate governance, and financial oversight that 1) dont' easily allow for ISOs, the root of almost all entrepreneurialship, and 2) the easy flow of capital to new ventures. It was an extremely large issue, even debated widely in France. Greg Chuck Murcko wrote: > According to my son, it was actually Homer Simpson, who claimed the > French had no word for victory. > > Chuck > > On Thursday, August 22, 2002, at 01:58 PM, Robert Harley wrote: > >> An apparent quote from Dubya, from the Times (sent to me by my Dad): >> >> http://www.timesonline.co.uk/printFriendly/0,,1-43-351083,00.html >> >> ------------------------------------------------------------------------------ >> >> TONY BLAIR's special relationship with George W. Bush is under >> considerable strain. Not only do the two disagree on Yassir Arafat's >> tenure as leader of the Palestinian Authority, but Blair has started >> telling disparaging anecdotes about the President. >> >> Baroness Williams of Crosby recalled a story told to her by 'my good >> friend Tony Blair' recently in Brighton. Blair, Bush and Jacques >> Chirac were discussing economics and, in particular, the decline of >> the French economy. 'The problem with the French,' Bush confided in >> Blair, 'is that they don't have a word for entrepreneur.' >> ------------------------------------------------------------------------------ >> >> >> R >> http://xent.com/mailman/listinfo/fork >> > > http://xent.com/mailman/listinfo/fork > http://xent.com/mailman/listinfo/fork\n",
    "'''"
   ]
  },
  {
   "cell_type": "code",
   "execution_count": 11,
   "metadata": {},
   "outputs": [],
   "source": [
    "def predict(mail_content):\n",
    "    processed_content = preprocessing(mail_content)\n",
    "    prediction_result = loaded_model.predict(processed_content, verbose=0)\n",
    "    result = 1 if prediction_result[0] > 0.5 else 0\n",
    "    return result"
   ]
  },
  {
   "cell_type": "code",
   "execution_count": 12,
   "metadata": {},
   "outputs": [],
   "source": [
    "predictions = []"
   ]
  },
  {
   "cell_type": "code",
   "execution_count": 13,
   "metadata": {},
   "outputs": [],
   "source": [
    "for message in messages:\n",
    "    try:\n",
    "        prediction = predict(message)  # Get prediction for each message\n",
    "        predictions.append(prediction)\n",
    "    except Exception as e:\n",
    "        print(f\"Error processing message: {message}\\n{e}\")\n",
    "        predictions.append(-1)  # Use -1 to indicate failed prediction (optional)\n"
   ]
  },
  {
   "cell_type": "code",
   "execution_count": 14,
   "metadata": {},
   "outputs": [],
   "source": [
    "valid_indices = [i for i, pred in enumerate(predictions) if pred != -1]\n",
    "valid_predictions = [predictions[i] for i in valid_indices]\n",
    "valid_labels = [true_labels[i] for i in valid_indices]"
   ]
  },
  {
   "cell_type": "code",
   "execution_count": 17,
   "metadata": {},
   "outputs": [
    {
     "name": "stdout",
     "output_type": "stream",
     "text": [
      "Accuracy: 79.20%\n",
      "\n",
      "Classification Report:\n",
      "              precision    recall  f1-score   support\n",
      "\n",
      "           0       1.00      0.58      0.74      1000\n",
      "           1       0.71      1.00      0.83      1000\n",
      "\n",
      "    accuracy                           0.79      2000\n",
      "   macro avg       0.85      0.79      0.78      2000\n",
      "weighted avg       0.85      0.79      0.78      2000\n",
      "\n"
     ]
    }
   ],
   "source": [
    "# Convert string labels to integer labels\n",
    "label_mapping = {'Safe Email': 0, 'Phishing Email': 1}\n",
    "valid_labels_int = [label_mapping[label] for label in valid_labels]\n",
    "\n",
    "accuracy = accuracy_score(valid_labels_int, valid_predictions)\n",
    "print(f\"Accuracy: {accuracy*100:.2f}%\")\n",
    "print(\"\\nClassification Report:\")\n",
    "print(classification_report(valid_labels_int, valid_predictions))"
   ]
  },
  {
   "cell_type": "code",
   "execution_count": null,
   "metadata": {},
   "outputs": [],
   "source": []
  }
 ],
 "metadata": {
  "kernelspec": {
   "display_name": "Python 3",
   "language": "python",
   "name": "python3"
  },
  "language_info": {
   "codemirror_mode": {
    "name": "ipython",
    "version": 3
   },
   "file_extension": ".py",
   "mimetype": "text/x-python",
   "name": "python",
   "nbconvert_exporter": "python",
   "pygments_lexer": "ipython3",
   "version": "3.12.6"
  }
 },
 "nbformat": 4,
 "nbformat_minor": 2
}
